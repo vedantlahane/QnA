{
 "cells": [
  {
   "cell_type": "code",
   "execution_count": null,
   "id": "ba0c5542",
   "metadata": {},
   "outputs": [],
   "source": [
    "import longchain_core.tools as tool"
   ]
  },
  {
   "cell_type": "code",
   "execution_count": null,
   "id": "8628ce2b",
   "metadata": {},
   "outputs": [],
   "source": [
    "class Automatic_Docstring:\n",
    "    @tool\n",
    "    def query_sqldb(self, query):\n",
    "        \"\"\"\"Query a SQLite database and access all the information. Input should be a valid SQL query.\"\"\"\n",
    "        response = self.chain.invoke(query)\n",
    "        return response\n",
    "    \n",
    "    def update_description(self, new_description):\n",
    "        \"\"\"Update the description of the tool.\"\"\"\n",
    "        self.query_sqldb.__doc__ = new_description\n",
    "\n",
    "        "
   ]
  }
 ],
 "metadata": {
  "language_info": {
   "name": "python"
  }
 },
 "nbformat": 4,
 "nbformat_minor": 5
}
