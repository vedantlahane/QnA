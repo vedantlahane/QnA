{
 "cells": [
  {
   "cell_type": "code",
   "execution_count": null,
   "id": "54d802ab",
   "metadata": {},
   "outputs": [],
   "source": [
    "import sqlite3\n",
    "import pandas as pd\n",
    "from pyprojroot import here\n"
   ]
  },
  {
   "cell_type": "code",
   "execution_count": null,
   "id": "c332fdeb",
   "metadata": {},
   "outputs": [],
   "source": [
    "db_path = here('data/database.db')\n",
    "conn = sqlite3.connect(db_path)"
   ]
  },
  {
   "cell_type": "code",
   "execution_count": null,
   "id": "f6f10385",
   "metadata": {},
   "outputs": [],
   "source": [
    "\n",
    "\n",
    "query = \"SELECT * FROM sqlite_master WHERE type='table';\"\n",
    "tables pd.read_sql(query, conn)\n",
    "tables"
   ]
  }
 ],
 "metadata": {
  "language_info": {
   "name": "python"
  }
 },
 "nbformat": 4,
 "nbformat_minor": 5
}
